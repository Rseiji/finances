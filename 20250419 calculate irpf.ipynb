{
 "cells": [
  {
   "cell_type": "code",
   "execution_count": null,
   "id": "aa136d07",
   "metadata": {},
   "outputs": [],
   "source": [
    "from utils import read_sql_query"
   ]
  },
  {
   "cell_type": "code",
   "execution_count": null,
   "id": "6daa44bd",
   "metadata": {},
   "outputs": [],
   "source": [
    "trn = read_sql_query(\"select * from stocks.transactions\")"
   ]
  },
  {
   "cell_type": "code",
   "execution_count": null,
   "id": "ec985073",
   "metadata": {},
   "outputs": [],
   "source": [
    "start_date = '2024-01-01'\n",
    "end_date = '2024-12-31'\n",
    "\n",
    "\n",
    "bens_direitos = read_sql_query(\n",
    "    f\"\"\"\n",
    "    WITH last_year_position AS (\n",
    "        SELECT\n",
    "            ticker,\n",
    "            SUM(quantity) AS quantity_old,\n",
    "            SUM(\n",
    "                CASE\n",
    "                WHEN quantity > 0\n",
    "                THEN price * quantity + COALESCE(taxes, 0)\n",
    "                ELSE 0\n",
    "                END\n",
    "            ) AS total_invested_old,\n",
    "            -SUM(\n",
    "                price * quantity + COALESCE(taxes, 0)\n",
    "            ) AS profit_old\n",
    "        FROM stocks.transactions\n",
    "        WHERE date < DATE '{start_date}'\n",
    "        GROUP BY ticker\n",
    "    ),\n",
    "    current_year_position AS (\n",
    "        SELECT\n",
    "            ticker,\n",
    "            SUM(quantity) AS quantity_current,\n",
    "            SUM(\n",
    "                CASE\n",
    "                WHEN quantity > 0\n",
    "                THEN price * quantity + COALESCE(taxes, 0)\n",
    "                ELSE 0\n",
    "                END\n",
    "            ) AS total_invested_current,\n",
    "            -SUM(\n",
    "                price * quantity + COALESCE(taxes, 0)\n",
    "            ) AS profit_current\n",
    "        FROM stocks.transactions\n",
    "        WHERE date <= DATE '{end_date}'\n",
    "        GROUP BY ticker\n",
    "    )\n",
    "    SELECT\n",
    "        ticker,\n",
    "        COALESCE(total_invested_old, 0) AS total_invested_old,\n",
    "        COALESCE(total_invested_current, 0) AS total_invested_current,\n",
    "        COALESCE(quantity_old, 0) AS quantity_old,\n",
    "        COALESCE(quantity_current, 0) AS quantity_current,\n",
    "        COALESCE(profit_old, 0) AS profit_old,\n",
    "        COALESCE(profit_current, 0) AS profit_current\n",
    "    FROM last_year_position\n",
    "    FULL OUTER JOIN current_year_position\n",
    "    USING(ticker)\n",
    "    \"\"\"\n",
    ")"
   ]
  },
  {
   "cell_type": "code",
   "execution_count": null,
   "id": "16685a58",
   "metadata": {},
   "outputs": [],
   "source": [
    "for col in [\"old\", \"current\"]:\n",
    "    bens_direitos.loc[\n",
    "        bens_direitos[f\"profit_{col}\"] == -bens_direitos[f\"total_invested_{col}\"],\n",
    "        f\"profit_{col}\"\n",
    "    ] = 0\n"
   ]
  },
  {
   "cell_type": "code",
   "execution_count": null,
   "id": "b590fd36",
   "metadata": {},
   "outputs": [],
   "source": [
    "bens_direitos = bens_direitos.sort_values(\n",
    "    [\"quantity_current\", \"quantity_old\"],\n",
    "    ascending=[False, False]\n",
    ").query(\"~((total_invested_old == total_invested_current) & (quantity_old\t== quantity_current) & (profit_old == profit_current))\")"
   ]
  },
  {
   "cell_type": "code",
   "execution_count": null,
   "id": "2e28c891",
   "metadata": {},
   "outputs": [],
   "source": [
    "bens_direitos.reset_index(drop=True).assign(\n",
    "    discrimination=lambda df: df[\"ticker\"] + \" - \" + df[\"quantity_current\"].astype(int).astype(str) + \" ações emitidas\"\n",
    ")[[\n",
    "    \"ticker\", \"discrimination\", \"total_invested_old\",\n",
    "    \"total_invested_current\", \"quantity_old\", \"quantity_current\",\n",
    "    \"profit_old\", \"profit_current\"\n",
    "]]"
   ]
  },
  {
   "cell_type": "code",
   "execution_count": null,
   "id": "38028218",
   "metadata": {},
   "outputs": [],
   "source": [
    "trn.query(\"ticker == 'JBSS3'\")"
   ]
  },
  {
   "cell_type": "code",
   "execution_count": null,
   "id": "384463c1",
   "metadata": {},
   "outputs": [],
   "source": []
  },
  {
   "cell_type": "code",
   "execution_count": null,
   "id": "15b737aa",
   "metadata": {},
   "outputs": [],
   "source": [
    "avgp = calculate_avg_price(trn)"
   ]
  },
  {
   "cell_type": "code",
   "execution_count": null,
   "id": "139353bc",
   "metadata": {},
   "outputs": [],
   "source": [
    "from utils import persist_dataframe_to_database"
   ]
  },
  {
   "cell_type": "code",
   "execution_count": null,
   "id": "64a2c416",
   "metadata": {},
   "outputs": [],
   "source": [
    "persist_dataframe_to_database(\n",
    "    avgp[[\n",
    "        \"date\", \"ticker\", \"quantity\", \"price\", \"taxes\", \"avg_price\", \"current_quantity\", \"_processed_at\"\n",
    "    ]],\n",
    "    \"stocks\", \"transactions\"\n",
    ")"
   ]
  },
  {
   "cell_type": "code",
   "execution_count": null,
   "id": "6e5fc878",
   "metadata": {},
   "outputs": [],
   "source": [
    "avgp.query(\"ticker == 'LEVE3'\")"
   ]
  },
  {
   "cell_type": "code",
   "execution_count": null,
   "id": "5c637ab6",
   "metadata": {},
   "outputs": [],
   "source": []
  }
 ],
 "metadata": {
  "kernelspec": {
   "display_name": ".finances_venv",
   "language": "python",
   "name": "python3"
  },
  "language_info": {
   "codemirror_mode": {
    "name": "ipython",
    "version": 3
   },
   "file_extension": ".py",
   "mimetype": "text/x-python",
   "name": "python",
   "nbconvert_exporter": "python",
   "pygments_lexer": "ipython3",
   "version": "3.12.3"
  }
 },
 "nbformat": 4,
 "nbformat_minor": 5
}
