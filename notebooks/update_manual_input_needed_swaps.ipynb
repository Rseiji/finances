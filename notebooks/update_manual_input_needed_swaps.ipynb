{
 "cells": [
  {
   "cell_type": "markdown",
   "id": "d60c2f10",
   "metadata": {},
   "source": [
    "# Update Binance Swaps Manually\n",
    "\n",
    "* Update swap operations that are not well formatted in binance transactions files.\n",
    "\n",
    "* First, run the automated process. A .csv file with manual inputs will be generated.\n",
    "\n",
    "* Then, open a sheets editor and solve each case, one by one.\n",
    "\n",
    "* Finally, use this notebook to persist the results. Note it already saves the register of rows\n",
    "with timestamps already inspected, so that the next time, only new rows will be shown."
   ]
  },
  {
   "cell_type": "code",
   "execution_count": 7,
   "id": "a063ddb9",
   "metadata": {},
   "outputs": [],
   "source": [
    "import pandas as pd\n",
    "import sys\n",
    "sys.path.append(\"/home/ubuntu/finances/\")\n",
    "from src.utils import persist_dataframe_to_database\n",
    "from datetime import datetime"
   ]
  },
  {
   "cell_type": "code",
   "execution_count": 11,
   "id": "fb0000a0",
   "metadata": {},
   "outputs": [],
   "source": [
    "swaps = pd.read_csv(\"/home/ubuntu/finances/swaps.csv\", sep=';', decimal=',')\n",
    "swaps.date = pd.to_datetime(swaps.date, format=\"%d/%m/%Y\")\n",
    "manual_ids = pd.read_csv(\"/home/ubuntu/finances/manual_ids.csv\", sep=';').drop_duplicates()"
   ]
  },
  {
   "cell_type": "code",
   "execution_count": 12,
   "id": "d3bd2f0c",
   "metadata": {},
   "outputs": [
    {
     "data": {
      "text/html": [
       "<div>\n",
       "<style scoped>\n",
       "    .dataframe tbody tr th:only-of-type {\n",
       "        vertical-align: middle;\n",
       "    }\n",
       "\n",
       "    .dataframe tbody tr th {\n",
       "        vertical-align: top;\n",
       "    }\n",
       "\n",
       "    .dataframe thead th {\n",
       "        text-align: right;\n",
       "    }\n",
       "</style>\n",
       "<table border=\"1\" class=\"dataframe\">\n",
       "  <thead>\n",
       "    <tr style=\"text-align: right;\">\n",
       "      <th></th>\n",
       "      <th>id</th>\n",
       "      <th>date</th>\n",
       "      <th>received_amount</th>\n",
       "      <th>paid_taxes_amount</th>\n",
       "      <th>paid_amount</th>\n",
       "      <th>received_currency</th>\n",
       "      <th>paid_taxes_currency</th>\n",
       "      <th>paid_currency</th>\n",
       "      <th>exchange_name</th>\n",
       "    </tr>\n",
       "  </thead>\n",
       "  <tbody>\n",
       "    <tr>\n",
       "      <th>0</th>\n",
       "      <td>2021-10-27 16:49:05</td>\n",
       "      <td>2021-10-27</td>\n",
       "      <td>271767.00000</td>\n",
       "      <td>2.717700e+02</td>\n",
       "      <td>102.873438</td>\n",
       "      <td>SHIB</td>\n",
       "      <td>SHIB</td>\n",
       "      <td>BRL</td>\n",
       "      <td>binance</td>\n",
       "    </tr>\n",
       "    <tr>\n",
       "      <th>1</th>\n",
       "      <td>2021-11-01 17:19:22</td>\n",
       "      <td>2021-11-01</td>\n",
       "      <td>9.00000</td>\n",
       "      <td>9.000000e-03</td>\n",
       "      <td>100.593000</td>\n",
       "      <td>ADA</td>\n",
       "      <td>ADA</td>\n",
       "      <td>BRL</td>\n",
       "      <td>binance</td>\n",
       "    </tr>\n",
       "    <tr>\n",
       "      <th>2</th>\n",
       "      <td>2021-11-03 01:17:59</td>\n",
       "      <td>2021-11-03</td>\n",
       "      <td>259848.00000</td>\n",
       "      <td>2.598500e+02</td>\n",
       "      <td>100.519201</td>\n",
       "      <td>SHIB</td>\n",
       "      <td>SHIB</td>\n",
       "      <td>BRL</td>\n",
       "      <td>binance</td>\n",
       "    </tr>\n",
       "    <tr>\n",
       "      <th>3</th>\n",
       "      <td>2021-11-03 01:18:41</td>\n",
       "      <td>2021-11-03</td>\n",
       "      <td>5.20000</td>\n",
       "      <td>5.200000e-03</td>\n",
       "      <td>58.354400</td>\n",
       "      <td>ADA</td>\n",
       "      <td>ADA</td>\n",
       "      <td>BRL</td>\n",
       "      <td>binance</td>\n",
       "    </tr>\n",
       "    <tr>\n",
       "      <th>4</th>\n",
       "      <td>2022-01-26 22:26:40</td>\n",
       "      <td>2022-01-26</td>\n",
       "      <td>0.00025</td>\n",
       "      <td>2.500000e-07</td>\n",
       "      <td>49.987820</td>\n",
       "      <td>BTC</td>\n",
       "      <td>BTC</td>\n",
       "      <td>BRL</td>\n",
       "      <td>binance</td>\n",
       "    </tr>\n",
       "  </tbody>\n",
       "</table>\n",
       "</div>"
      ],
      "text/plain": [
       "                    id       date  received_amount  paid_taxes_amount  \\\n",
       "0  2021-10-27 16:49:05 2021-10-27     271767.00000       2.717700e+02   \n",
       "1  2021-11-01 17:19:22 2021-11-01          9.00000       9.000000e-03   \n",
       "2  2021-11-03 01:17:59 2021-11-03     259848.00000       2.598500e+02   \n",
       "3  2021-11-03 01:18:41 2021-11-03          5.20000       5.200000e-03   \n",
       "4  2022-01-26 22:26:40 2022-01-26          0.00025       2.500000e-07   \n",
       "\n",
       "   paid_amount received_currency paid_taxes_currency paid_currency  \\\n",
       "0   102.873438              SHIB                SHIB           BRL   \n",
       "1   100.593000               ADA                 ADA           BRL   \n",
       "2   100.519201              SHIB                SHIB           BRL   \n",
       "3    58.354400               ADA                 ADA           BRL   \n",
       "4    49.987820               BTC                 BTC           BRL   \n",
       "\n",
       "  exchange_name  \n",
       "0       binance  \n",
       "1       binance  \n",
       "2       binance  \n",
       "3       binance  \n",
       "4       binance  "
      ]
     },
     "execution_count": 12,
     "metadata": {},
     "output_type": "execute_result"
    }
   ],
   "source": [
    "swaps.head()"
   ]
  },
  {
   "cell_type": "code",
   "execution_count": 13,
   "id": "9c2fd48d",
   "metadata": {},
   "outputs": [
    {
     "data": {
      "text/html": [
       "<div>\n",
       "<style scoped>\n",
       "    .dataframe tbody tr th:only-of-type {\n",
       "        vertical-align: middle;\n",
       "    }\n",
       "\n",
       "    .dataframe tbody tr th {\n",
       "        vertical-align: top;\n",
       "    }\n",
       "\n",
       "    .dataframe thead th {\n",
       "        text-align: right;\n",
       "    }\n",
       "</style>\n",
       "<table border=\"1\" class=\"dataframe\">\n",
       "  <thead>\n",
       "    <tr style=\"text-align: right;\">\n",
       "      <th></th>\n",
       "      <th>id</th>\n",
       "    </tr>\n",
       "  </thead>\n",
       "  <tbody>\n",
       "    <tr>\n",
       "      <th>0</th>\n",
       "      <td>2021-10-27 16:49:05</td>\n",
       "    </tr>\n",
       "    <tr>\n",
       "      <th>6</th>\n",
       "      <td>2021-10-29 04:02:03</td>\n",
       "    </tr>\n",
       "    <tr>\n",
       "      <th>7</th>\n",
       "      <td>2021-11-01 17:19:22</td>\n",
       "    </tr>\n",
       "    <tr>\n",
       "      <th>13</th>\n",
       "      <td>2021-11-03 01:17:59</td>\n",
       "    </tr>\n",
       "    <tr>\n",
       "      <th>19</th>\n",
       "      <td>2021-11-03 01:18:41</td>\n",
       "    </tr>\n",
       "  </tbody>\n",
       "</table>\n",
       "</div>"
      ],
      "text/plain": [
       "                     id\n",
       "0   2021-10-27 16:49:05\n",
       "6   2021-10-29 04:02:03\n",
       "7   2021-11-01 17:19:22\n",
       "13  2021-11-03 01:17:59\n",
       "19  2021-11-03 01:18:41"
      ]
     },
     "execution_count": 13,
     "metadata": {},
     "output_type": "execute_result"
    }
   ],
   "source": [
    "manual_ids.head()"
   ]
  },
  {
   "cell_type": "code",
   "execution_count": 37,
   "id": "c5dbb5da",
   "metadata": {},
   "outputs": [],
   "source": [
    "persist_dataframe_to_database(swaps, \"crypto\", \"swaps\", True, pk_columns=[\"id\"])"
   ]
  },
  {
   "cell_type": "code",
   "execution_count": 45,
   "id": "d88e3a90",
   "metadata": {},
   "outputs": [],
   "source": [
    "persist_dataframe_to_database(manual_ids, \"crypto\", \"manually_inserted_keys\", True, upsert=False)"
   ]
  }
 ],
 "metadata": {
  "kernelspec": {
   "display_name": ".finances_venv",
   "language": "python",
   "name": "python3"
  },
  "language_info": {
   "codemirror_mode": {
    "name": "ipython",
    "version": 3
   },
   "file_extension": ".py",
   "mimetype": "text/x-python",
   "name": "python",
   "nbconvert_exporter": "python",
   "pygments_lexer": "ipython3",
   "version": "3.12.3"
  }
 },
 "nbformat": 4,
 "nbformat_minor": 5
}
