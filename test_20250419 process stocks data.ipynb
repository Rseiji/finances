# Test file: test_20250419 process stocks data.ipynb

{
    "cells": [
        {
            "cell_type": "code",
            "metadata": {
                "id": "test_creds_file_exists",
                "language": "python"
            },
            "source": [
                "import os\n",
                "def test_creds_file_exists():\n",
                "    creds_path = '/home/ubuntu/finances/raw_data/teste-274223-f75546e9a58b.json'\n",
                "    assert os.path.exists(creds_path), 'Credentials file does not exist'"
            ]
        },
        {
            "cell_type": "code",
            "metadata": {
                "id": "test_access_worksheet",
                "language": "python"
            },
            "source": [
                "def test_access_worksheet():\n",
                "    from oauth2client.service_account import ServiceAccountCredentials\n",
                "    import gspread\n",
                "    scopes = [\n",
                "        'https://www.googleapis.com/auth/spreadsheets',\n",
                "        'https://www.googleapis.com/auth/drive',\n",
                "    ]\n",
                "    creds = ServiceAccountCredentials.from_json_keyfile_name(\n",
                "        '/home/ubuntu/finances/raw_data/teste-274223-f75546e9a58b.json',\n",
                "        scopes=scopes\n",
                "    )\n",
                "    files = gspread.authorize(creds)\n",
                "    workbook = files.open('Planilha de Controle de Carteira CDV v.6.0e')\n",
                "    worksheet = workbook.worksheet('2 - Renda Variável')\n",
                "    assert worksheet is not None, 'Worksheet could not be accessed'"
            ]
        },
        {
            "cell_type": "code",
            "metadata": {
                "id": "test_get_all_records",
                "language": "python"
            },
            "source": [
                "def test_get_all_records():\n",
                "    from oauth2client.service_account import ServiceAccountCredentials\n",
                "    import gspread\n",
                "    scopes = [\n",
                "        'https://www.googleapis.com/auth/spreadsheets',\n",
                "        'https://www.googleapis.com/auth/drive',\n",
                "    ]\n",
                "    creds = ServiceAccountCredentials.from_json_keyfile_name(\n",
                "        '/home/ubuntu/finances/raw_data/teste-274223-f75546e9a58b.json',\n",
                "        scopes=scopes\n",
                "    )\n",
                "    files = gspread.authorize(creds)\n",
                "    workbook = files.open('Planilha de Controle de Carteira CDV v.6.0e')\n",
                "    worksheet = workbook.worksheet('2 - Renda Variável')\n",
                "    try:\n",
                "        records = worksheet.get_all_records(expected_headers=['Header1', 'Header2'])\n",
                "        assert isinstance(records, list), 'Data is not in the expected format'\n",
                "    except gspread.exceptions.GSpreadException as e:\n",
                "        assert False, f'GSpreadException occurred: {e}'"
            ]
        },
        {
            "cell_type": "code",
            "metadata": {
                "id": "test_dataframe_creation",
                "language": "python"
            },
            "source": [
                "def test_dataframe_creation():\n",
                "    import pandas as pd\n",
                "    from oauth2client.service_account import ServiceAccountCredentials\n",
                "    import gspread\n",
                "    scopes = [\n",
                "        'https://www.googleapis.com/auth/spreadsheets',\n",
                "        'https://www.googleapis.com/auth/drive',\n",
                "    ]\n",
                "    creds = ServiceAccountCredentials.from_json_keyfile_name(\n",
                "        '/home/ubuntu/finances/raw_data/teste-274223-f75546e9a58b.json',\n",
                "        scopes=scopes\n",
                "    )\n",
                "    files = gspread.authorize(creds)\n",
                "    workbook = files.open('Planilha de Controle de Carteira CDV v.6.0e')\n",
                "    worksheet = workbook.worksheet('2 - Renda Variável')\n",
                "    records = worksheet.get_all_records(expected_headers=['Header1', 'Header2'])\n",
                "    df = pd.DataFrame(records)\n",
                "    assert not df.empty, 'DataFrame is empty'"
            ]
        }
    ]
}