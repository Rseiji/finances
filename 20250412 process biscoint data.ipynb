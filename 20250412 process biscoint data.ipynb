{
 "cells": [
  {
   "cell_type": "code",
   "execution_count": null,
   "id": "948cae68",
   "metadata": {},
   "outputs": [],
   "source": [
    "\n",
    "# To run this sql query...\n",
    "insert into crypto.swaps (\n",
    "    swap_date,\n",
    "    received_amount,\n",
    "    paid_taxes_amount,\n",
    "    paid_amount,\n",
    "    received_currency,\n",
    "    paid_taxes_currency,\n",
    "    paid_currency,\n",
    "    exchange_name,\n",
    "    _processed_at\n",
    ") values\n",
    "(date '2021-04-23', 0.0003607, 0, 100, 'BTC', 'BTC', 'BRL', 'biscoint', now()),\n",
    "(date '2021-05-22', 0.0004867, 0, 100, 'BTC', 'BTC', 'BRL', 'biscoint', now()),\n",
    "(date '2021-06-05', 0.00162435, 0, 300, 'BTC', 'BTC', 'BRL', 'biscoint', now())"
   ]
  }
 ],
 "metadata": {
  "kernelspec": {
   "display_name": ".finances_venv",
   "language": "python",
   "name": "python3"
  },
  "language_info": {
   "codemirror_mode": {
    "name": "ipython",
    "version": 3
   },
   "file_extension": ".py",
   "mimetype": "text/x-python",
   "name": "python",
   "nbconvert_exporter": "python",
   "pygments_lexer": "ipython3",
   "version": "3.12.3"
  }
 },
 "nbformat": 4,
 "nbformat_minor": 5
}
